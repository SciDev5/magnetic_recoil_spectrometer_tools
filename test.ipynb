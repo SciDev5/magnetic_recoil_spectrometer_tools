{
 "cells": [
  {
   "cell_type": "code",
   "execution_count": 1,
   "id": "b86a8fe8",
   "metadata": {},
   "outputs": [
    {
     "name": "stderr",
     "output_type": "stream",
     "text": [
      "/usr/local/lib/python3.10/dist-packages/matplotlib/projections/__init__.py:63: UserWarning: Unable to import Axes3D. This may be due to multiple versions of Matplotlib being installed (e.g. as a system package and as a pip package). As a result, the 3D projection is not available.\n",
      "  warnings.warn(\"Unable to import Axes3D. This may be due to multiple versions of \"\n"
     ]
    }
   ],
   "source": [
    "import numpy as np\n",
    "import numpy.typing as npt\n",
    "from typing import Callable\n",
    "import random\n",
    "import matplotlib.pyplot as plt"
   ]
  },
  {
   "cell_type": "code",
   "execution_count": 2,
   "id": "4eb1be13",
   "metadata": {},
   "outputs": [],
   "source": [
    "CrossSection = Callable[[float, float], float]\n",
    "InteractionDensity = Callable[[float, float], float]\n",
    "CrossSectionTotal = Callable[[float], float]\n",
    "InteractionDensityTotal = Callable[[float], float]\n",
    "\n",
    "def interaction_density_from_cross_section(cross_section: CrossSection, number_density: float) -> InteractionDensity:\n",
    "    return lambda energy_in, angle_out: cross_section(energy_in, angle_out) * number_density\n",
    "def interaction_density_from_cross_section_total(cross_section: CrossSectionTotal, number_density: float) -> InteractionDensityTotal:\n",
    "    return lambda energy_in: cross_section(energy_in) * number_density\n",
    "\n",
    "def cross_section_PROCESS(energy_in: npt.ArrayLike, angle_out: npt.ArrayLike) -> npt.NDArray:\n",
    "    \"\"\"\n",
    "    arguments:\n",
    "        - momentum_in[kg m /s]\n",
    "        - angle_out[rad]\n",
    "    returns[m2 /rad]:\n",
    "    \"\"\"\n",
    "    return (np.cos(angle_out) + 1) * energy_in * 1e-24\n",
    "\n",
    "# inputs: photon energy/angle number distribution\n",
    "# outputs: electron energy/angle number distribution\n",
    "\n",
    "\n",
    "# gamma spectrum stored throughout depth of material, iteravely refined "
   ]
  },
  {
   "cell_type": "code",
   "execution_count": 3,
   "id": "69bcc7ae",
   "metadata": {},
   "outputs": [],
   "source": [
    "classical_electron_radius = 2.81794032e-15  # [m]\n",
    "elec_rest_energy = 8.1871057880e-14  # [J]\n",
    "\n",
    "# def cross_section_compton(Z: int) -> tuple[CrossSectionTotal, CrossSection]:\n",
    "#     C_tot = Z * 8/3 * np.pi * np.pow(classical_electron_radius,2)\n",
    "#     def _cross_section_total(phot_energy_in):\n",
    "#         k = phot_energy_in / elec_rest_energy\n",
    "#         return C_tot*(\n",
    "#             1/(1 + 2*k)**2\n",
    "#         )*(\n",
    "#             1\n",
    "#             + 2 * k\n",
    "#             + 6/5 * k**2\n",
    "#             - 1/2 * k**3\n",
    "#             + 2/7 * k**4\n",
    "#             - 6/35 * k**5\n",
    "#             + 8/105 * k**6\n",
    "#             + 4/105 * k**7\n",
    "#         )\n",
    "#     def _cross_section(phot_energy_in, phot_angle_out):\n",
    "#         raise \"TODO\"\n",
    "#     return (_cross_section_total,_cross_section)\n",
    "\n",
    "material_number_density = 19320000/196.97*6.02214076e23*79\n",
    "\n",
    "\n",
    "\n",
    "def gamma_cross_section_density_total(energy_in: npt.NDArray) -> npt.NDArray:\n",
    "    N = 100\n",
    "    dtheta = np.pi/N\n",
    "    angles = np.linspace(0,np.pi,N)\n",
    "    energy_in_ = np.expand_dims(energy_in,axis=1).repeat(angles.shape[0],axis=1)\n",
    "    angles_ = np.expand_dims(angles,axis=0).repeat(energy_in.shape[0],axis=0)\n",
    "\n",
    "    # csd_compton = gamma_cross_section_density_compton(energy_in_, angles_)\n",
    "    # csd_compton[np.isnan(csd_compton)] = 0\n",
    "    # csd_compton_total = (csd_compton * np.pi*2 * np.sin(angles_) * dtheta).sum(axis=1)\n",
    "    MeV = 1.6022E-13\n",
    "    M = elec_rest_energy / energy_in\n",
    "    s0 = 6.651e-25 * 1e-4 # [m2]\n",
    "    a0 = 1/M\n",
    "    csd_compton_total = s0 *3/8 *M *(np.log(2*a0)+0.5) * material_number_density\n",
    "\n",
    "    return csd_compton_total\n",
    "\n",
    "# returns [/m /st]\n",
    "def gamma_cross_section_density_compton(\n",
    "    energy_in: npt.NDArray, phot_angle_out: npt.NDArray\n",
    ") -> npt.NDArray:\n",
    "    # # return np.zeros_like(energy_in) + 0.001 * (1 + np.cos(phot_angle_out))/(np.pi*2)\n",
    "\n",
    "    # a_0 = energy_in / elec_rest_energy\n",
    "    # a = a_0 / (1 + a_0 * (1 - np.cos(phot_angle_out)))\n",
    "    # elec_angle_out = np.arctan(1 / (a_0 + 1)) * np.sqrt((2 * a_0 * a) / (a_0 - a) - 1)\n",
    "\n",
    "    # psi = elec_angle_out\n",
    "    # value_0 = np.pow((a_0 + 1) * np.tan(psi), 2)\n",
    "\n",
    "    # # [0609B], eqn 12\n",
    "    # return (\n",
    "    #     (classical_electron_radius**2 / 2)\n",
    "    #     * ((2 * (a_0 + 1)) / (value_0 + 2 * a_0 + 1)) ** 2\n",
    "    #     * (1 / (np.cos(psi) ** 3))\n",
    "    #     * (\n",
    "    #         1\n",
    "    #         + ((value_0 - 1) / (value_0 + 1)) ** 2\n",
    "    #         + (4 * a_0**2) / ((value_0 + 1) * (value_0 + 2 * a_0 + 1))\n",
    "    #     )\n",
    "    # ) * material_number_density\n",
    "    # [0609B], eqn 11\n",
    "    \n",
    "    alpha_0 = energy_in / elec_rest_energy\n",
    "    cos_theta = np.cos(phot_angle_out)\n",
    "    \n",
    "    return (\n",
    "        classical_electron_radius**2\n",
    "        * (\n",
    "            1+cos_theta**2\n",
    "        )/(\n",
    "            1 + alpha_0 * (1 - cos_theta)\n",
    "        )**2\n",
    "        * (\n",
    "            1\n",
    "            + (\n",
    "                alpha_0**2*(1-cos_theta)**2\n",
    "            )/(\n",
    "                (1+cos_theta**2)*(1+alpha_0*(1-cos_theta))\n",
    "            )\n",
    "        )\n",
    "    ) * material_number_density\n",
    "\n",
    "\n",
    "def compton_elec_params(\n",
    "    phot_energy_in: npt.NDArray, phot_angle_out: npt.NDArray\n",
    ") -> tuple[\n",
    "    npt.NDArray,  # elec_energy_out\n",
    "    npt.NDArray,  # elec_angle_out\n",
    "]:\n",
    "    a_0 = phot_energy_in / elec_rest_energy\n",
    "    a = a_0 / (1 + a_0 * (1 - np.cos(phot_angle_out)))\n",
    "    elec_energy_out = (a_0 - a) * elec_rest_energy\n",
    "    elec_angle_out = np.arctan(1 / (a_0 + 1)) * np.sqrt((2 * a_0 * a) / (a_0 - a) - 1)\n",
    "    return elec_energy_out, elec_angle_out\n",
    "    raise \"TODO\"\n",
    "\n",
    "\n",
    "def gamma_cross_section_density_pairproduction(energy_in, elec_angle_out):\n",
    "    raise \"TODO\""
   ]
  },
  {
   "cell_type": "code",
   "execution_count": 4,
   "id": "b19050f5",
   "metadata": {},
   "outputs": [],
   "source": [
    "class FRange:\n",
    "    def __init__(self, a:float, b:float, count:int):\n",
    "        self.range = (a,b)\n",
    "        self.count = count\n",
    "    def as_ndarray(self):\n",
    "        return np.linspace(self.range[0],self.range[1],self.count)\n",
    "    def step_width(self):\n",
    "        return (self.range[1]-self.range[0])/self.count\n",
    "    def nearest_index(self, v: npt.ArrayLike):\n",
    "        i = np.array(((np.array(v)-self.range[0])/(self.range[1]-self.range[0])*self.count).round().astype(np.dtypes.Int32DType))\n",
    "        i[i < 0] = -1\n",
    "        i[i >= self.count] = -1\n",
    "        return i\n",
    "    def nearest_index_f(self, v: npt.ArrayLike):\n",
    "        return (np.array(v)-self.range[0])/(self.range[1]-self.range[0])*self.count\n",
    "\n",
    "class Distribution:\n",
    "    def __init__(self, energy_range:FRange, angle_range:FRange):\n",
    "        self.energy_range = energy_range\n",
    "        self.angle_range = angle_range\n",
    "        self.number = np.zeros((energy_range.count+1, angle_range.count+1))\n",
    "    def add(\n",
    "        self,\n",
    "        energy: npt.NDArray, \n",
    "        angle: npt.NDArray, \n",
    "        number: npt.NDArray,\n",
    "    ):\n",
    "        for i,(i_self_row,j_self_row) in enumerate(zip(\n",
    "            iter(self.energy_range.nearest_index_f(energy)),\n",
    "            iter(self.angle_range.nearest_index_f(angle)),\n",
    "        )):\n",
    "            for j,(i_self,j_self) in enumerate(zip(\n",
    "                iter(i_self_row),\n",
    "                iter(j_self_row),\n",
    "            )):\n",
    "                if i_self < 0 or i_self >= self.energy_range.count or abs(j_self) >= self.angle_range.count or np.isnan(i_self) or np.isnan(j_self):\n",
    "                    continue\n",
    "                n = number[i,j]\n",
    "\n",
    "                i_i = int(i_self)\n",
    "                k_i = i_self - i_i\n",
    "                i_j = int(abs(j_self))\n",
    "                k_j = abs(j_self) - i_j\n",
    "                self.number[i_i,i_j] += (1-k_i)*(1-k_j)*n\n",
    "                self.number[i_i,i_j+1] += (1-k_i)*k_j*n\n",
    "                self.number[i_i+1,i_j] += k_i*(1-k_j)*n\n",
    "                self.number[i_i+1,i_j+1] += k_i*k_j*n\n",
    "\n",
    "        # # warning: duplicate indices will cause undercounting\n",
    "        # self.number[\n",
    "        #     self.energy_range.nearest_index(energy),\n",
    "        #     self.angle_range.nearest_index(angle),\n",
    "        # ] += number\n",
    "        return self\n",
    "    def add_direct(self,number: npt.NDArray):\n",
    "        self.number += number\n",
    "        return self\n",
    "        \n",
    "\n",
    "\n",
    "# def elec_number_attenuated(\n",
    "#     elec_number: Distribution,\n",
    "#     depth: float,\n",
    "# ) -> npt.NDArray:\n",
    "#     # TODO attenuate\n",
    "#     return elec_number.number\n",
    "def elec_number_attenuated_2(\n",
    "    elec_energy: npt.NDArray,\n",
    "    elec_angle: npt.NDArray,\n",
    "    elec_number: npt.NDArray,\n",
    "    depth: float,\n",
    ") -> tuple[\n",
    "    npt.NDArray, # elec_energy\n",
    "    npt.NDArray, # elec_number\n",
    "]:\n",
    "    # TODO\n",
    "    return elec_energy, elec_number\n",
    "\n",
    "\n",
    "def one_ray(\n",
    "    phot_energy: npt.NDArray,\n",
    "    # phot_angle: npt.NDArray,\n",
    "    phot_number: npt.NDArray,\n",
    "    phot_out_angles: FRange,\n",
    "    elec_energies: FRange, # i\n",
    "    elec_angles: FRange, # j\n",
    "\n",
    "    depth: float,\n",
    "    n_steps = 1000,\n",
    "): # [n,i,j]\n",
    "    step_length = depth/n_steps\n",
    "    # - initialize empty electron distribution output\n",
    "    elec_number = Distribution(elec_energies,elec_angles)\n",
    "\n",
    "    gamma_cross_section_density_total_ = gamma_cross_section_density_total(phot_energy)\n",
    "    print(gamma_cross_section_density_total_)\n",
    "\n",
    "    assert len(phot_energy.shape) == 1\n",
    "\n",
    "    # c_phot_energy_in = np.expand_dims(phot_energy,axis=1).repeat(phot_out_angles.count,axis=1)\n",
    "    # c_phot_angle_out = np.expand_dims(phot_out_angles.as_ndarray(),axis=0).repeat(phot_energy.shape[0],axis=0)\n",
    "    # c_elec_number_raw = gamma_cross_section_density_compton(c_phot_energy_in, c_phot_angle_out) * step_length\n",
    "    # c_elec_energy_raw, c_elec_angle_raw = compton_elec_params(c_phot_energy_in,c_phot_angle_out)\n",
    "    # c_elec_number = Distribution(elec_energies,elec_angles).add(c_elec_energy_raw,c_elec_angle_raw,c_elec_number_raw)\n",
    "\n",
    "    # - for each depth of incident ray through material\n",
    "    for i in range(n_steps):\n",
    "        current_depth = i * step_length\n",
    "    #     - calculate photon number using total cross section\n",
    "        phot_number_here = phot_number * np.exp(-current_depth * gamma_cross_section_density_total_)\n",
    "    #     - add electron contributions from [compton, pair-production]\n",
    "    #           (and account for attenuation due to depth in material)\n",
    "        # elec_number.add_direct(\n",
    "        #     elec_number_attenuated(c_elec_number, depth-current_depth) * phot_number_here\n",
    "        # )\n",
    "        c_phot_energy_in = np.expand_dims(phot_energy,axis=1).repeat(phot_out_angles.count,axis=1)\n",
    "        c_phot_angle_out = np.expand_dims(phot_out_angles.as_ndarray(),axis=0).repeat(phot_energy.shape[0],axis=0)\n",
    "        c_elec_number_raw = gamma_cross_section_density_compton(c_phot_energy_in, c_phot_angle_out)\n",
    "\n",
    "        c_elec_number_raw[np.isnan(c_elec_number_raw)] = 0\n",
    "        c_elec_number_raw *= np.pi * phot_out_angles.step_width()\n",
    "        c_elec_number_raw *= np.sin(c_phot_angle_out)\n",
    "\n",
    "        c_elec_energy_raw, c_elec_angle_raw = compton_elec_params(c_phot_energy_in,c_phot_angle_out)\n",
    "        c_elec_energy, c_elec_number = elec_number_attenuated_2(c_elec_energy_raw, c_elec_angle_raw, c_elec_number_raw, depth-current_depth)\n",
    "        elec_number.add(\n",
    "            c_elec_energy, c_elec_angle_raw,\n",
    "            c_elec_number * step_length * phot_number_here,\n",
    "        )\n",
    "    #     - emit secondary compton-scattered rays and add contributions (TODO)\n",
    "\n",
    "    # - return electron distribution\n",
    "    return elec_number\n"
   ]
  },
  {
   "cell_type": "code",
   "execution_count": 5,
   "id": "c9185bcf",
   "metadata": {},
   "outputs": [],
   "source": [
    "MeV = 1.6022E-13 # [J]"
   ]
  },
  {
   "cell_type": "code",
   "execution_count": 6,
   "id": "03b76772",
   "metadata": {},
   "outputs": [
    {
     "data": {
      "text/plain": [
       "np.float64(0.9765885249970855)"
      ]
     },
     "execution_count": 6,
     "metadata": {},
     "output_type": "execute_result"
    }
   ],
   "source": [
    "phot_energy = np.array([20 * MeV])\n",
    "phot_out_angles = FRange(0,np.pi,10000)\n",
    "c_phot_energy_in = np.expand_dims(phot_energy,axis=1).repeat(phot_out_angles.count,axis=1)\n",
    "c_phot_angle_out = np.expand_dims(phot_out_angles.as_ndarray(),axis=0).repeat(phot_energy.shape[0],axis=0)\n",
    "c_elec_number_raw = gamma_cross_section_density_compton(c_phot_energy_in, c_phot_angle_out)\n",
    "c_elec_number_raw[np.isnan(c_elec_number_raw)] = 0\n",
    "c_elec_number_raw *= np.pi * phot_out_angles.step_width()\n",
    "c_elec_number_raw *= np.sin(c_phot_angle_out)\n",
    "np.sum(c_elec_number_raw)/ np.sum(gamma_cross_section_density_total(phot_energy))"
   ]
  },
  {
   "cell_type": "code",
   "execution_count": 7,
   "id": "833537ab",
   "metadata": {},
   "outputs": [
    {
     "name": "stdout",
     "output_type": "stream",
     "text": [
      "[17.23641652]\n"
     ]
    },
    {
     "data": {
      "text/plain": [
       "array([0.01708872])"
      ]
     },
     "execution_count": 7,
     "metadata": {},
     "output_type": "execute_result"
    },
    {
     "data": {
      "image/png": "[encoded data removed]",
      "text/plain": [
       "<Figure size 640x480 with 1 Axes>"
      ]
     },
     "metadata": {},
     "output_type": "display_data"
    }
   ],
   "source": [
    "X = np.linspace(0,0.001,100)\n",
    "gamma_cross_section_density_total_ = gamma_cross_section_density_total(np.array([16 * MeV]))\n",
    "print(gamma_cross_section_density_total_)\n",
    "plt.plot(X,1-np.exp(-gamma_cross_section_density_total_ * X))\n",
    "\n",
    "1-np.exp(-gamma_cross_section_density_total_*1e-3)"
   ]
  },
  {
   "cell_type": "code",
   "execution_count": 14,
   "id": "1148881d",
   "metadata": {},
   "outputs": [
    {
     "name": "stdout",
     "output_type": "stream",
     "text": [
      "[17.23641652]\n"
     ]
    },
    {
     "name": "stderr",
     "output_type": "stream",
     "text": [
      "/tmp/ipykernel_437174/2971116234.py:102: RuntimeWarning: divide by zero encountered in divide\n",
      "  elec_angle_out = np.arctan(1 / (a_0 + 1)) * np.sqrt((2 * a_0 * a) / (a_0 - a) - 1)\n"
     ]
    },
    {
     "data": {
      "text/plain": [
       "np.float64(0.023427914457040348)"
      ]
     },
     "execution_count": 14,
     "metadata": {},
     "output_type": "execute_result"
    },
    {
     "data": {
      "image/png": "[encoded data removed]",
      "text/plain": [
       "<Figure size 640x480 with 1 Axes>"
      ]
     },
     "metadata": {},
     "output_type": "display_data"
    }
   ],
   "source": [
    "E_max_MeV = 20\n",
    "\n",
    "v = one_ray(\n",
    "    np.array([16 * MeV]),\n",
    "    np.array([1]),\n",
    "    FRange(0,np.pi,1000),\n",
    "    FRange(0*MeV,E_max_MeV*MeV,100),\n",
    "    FRange(0,0.2,100),\n",
    "    0.002, #1 mm\n",
    "    n_steps=1000\n",
    ").number\n",
    "plt.imshow(v[::-1])\n",
    "plt.xlabel(\"angle (rad)\")\n",
    "plt.ylabel(\"energy (MeV)\")\n",
    "plt.xticks(np.linspace(0,100,5),np.linspace(0,0.2,5).round(decimals=2))\n",
    "plt.yticks(np.linspace(0,100,5),np.linspace(E_max_MeV,0,5).round(decimals=2))\n",
    "\n",
    "# plt.plot(v.sum(axis=1))\n",
    "# plt.xlabel(\"energy (MeV)\")\n",
    "# plt.xticks(np.linspace(0,100,5),np.linspace(0,E_max_MeV,5))\n",
    "\n",
    "# plt.plot(v.sum(axis=0))\n",
    "# plt.xlabel(\"angle (rad)\")\n",
    "# plt.xticks(np.linspace(0,1000,5),np.linspace(0,2,5))\n",
    "\n",
    "v.sum()"
   ]
  },
  {
   "cell_type": "code",
   "execution_count": 13,
   "id": "b76e9632",
   "metadata": {},
   "outputs": [
    {
     "data": {
      "text/plain": [
       "([<matplotlib.axis.XTick at 0x7b3575b05480>,\n",
       "  <matplotlib.axis.XTick at 0x7b3575b05450>,\n",
       "  <matplotlib.axis.XTick at 0x7b3575b04ca0>,\n",
       "  <matplotlib.axis.XTick at 0x7b3575b2dc00>,\n",
       "  <matplotlib.axis.XTick at 0x7b3575b2d3c0>],\n",
       " [Text(0.0, 0, '0.0'),\n",
       "  Text(25.0, 0, '5.0'),\n",
       "  Text(50.0, 0, '10.0'),\n",
       "  Text(75.0, 0, '15.0'),\n",
       "  Text(100.0, 0, '20.0')])"
      ]
     },
     "execution_count": 13,
     "metadata": {},
     "output_type": "execute_result"
    },
    {
     "data": {
      "image/png": "[encoded data removed]",
      "text/plain": [
       "<Figure size 640x480 with 1 Axes>"
      ]
     },
     "metadata": {},
     "output_type": "display_data"
    }
   ],
   "source": [
    "plt.plot(v[:,:50].sum(axis=1))\n",
    "plt.xlabel(\"energy (MeV)\")\n",
    "plt.xticks(np.linspace(0,100,5),np.linspace(0,E_max_MeV,5))"
   ]
  },
  {
   "cell_type": "code",
   "execution_count": 9,
   "id": "d20eec5c",
   "metadata": {},
   "outputs": [
    {
     "data": {
      "text/plain": [
       "([<matplotlib.axis.XTick at 0x734db7b54730>,\n",
       "  <matplotlib.axis.XTick at 0x734db7b54700>,\n",
       "  <matplotlib.axis.XTick at 0x734db7b2ff10>,\n",
       "  <matplotlib.axis.XTick at 0x734db7b7ccd0>,\n",
       "  <matplotlib.axis.XTick at 0x734db7b7c580>],\n",
       " [Text(0.0, 0, '0.0'),\n",
       "  Text(25.0, 0, '0.05'),\n",
       "  Text(50.0, 0, '0.1'),\n",
       "  Text(75.0, 0, '0.15'),\n",
       "  Text(100.0, 0, '0.2')])"
      ]
     },
     "execution_count": 9,
     "metadata": {},
     "output_type": "execute_result"
    },
    {
     "data": {
      "image/png": "[encoded data removed]",
      "text/plain": [
       "<Figure size 640x480 with 1 Axes>"
      ]
     },
     "metadata": {},
     "output_type": "display_data"
    }
   ],
   "source": [
    "plt.plot(v.sum(axis=0))\n",
    "plt.xlabel(\"angle (rad)\")\n",
    "plt.xticks(np.linspace(0,100,5),np.linspace(0,0.2,5).round(decimals=2))\n"
   ]
  },
  {
   "cell_type": "code",
   "execution_count": 120,
   "id": "c340f7b9",
   "metadata": {},
   "outputs": [
    {
     "data": {
      "text/plain": [
       "array([20, 30,  2,  3,  4])"
      ]
     },
     "execution_count": 120,
     "metadata": {},
     "output_type": "execute_result"
    }
   ],
   "source": [
    "x = np.array([0,1,2,3,4])\n",
    "x[[0,0,1]] = [10,20,30]\n",
    "x"
   ]
  },
  {
   "cell_type": "code",
   "execution_count": 3,
   "id": "cbe17312",
   "metadata": {},
   "outputs": [],
   "source": [
    "\n",
    "# def trace(\n",
    "#     angle_spectrum_n: int,\n",
    "#     angle_spectrum_range: float,\n",
    "#     energy_spectrum_m: int,\n",
    "#     energy_spectrum_range: tuple[float,float],\n",
    "\n",
    "#     phot_number_in: npt.ArrayLike, # [n,m]\n",
    "\n",
    "#     cross_section: CrossSection,\n",
    "#     density: float,\n",
    "# ) -> npt.ArrayLike: # elec_number_out [n,m]\n",
    "#     pass\n",
    "\n",
    "\n",
    "# def trace_step(\n",
    "#     dx: float,\n",
    "\n",
    "#     angle_spectrum_n: int,\n",
    "#     angle_spectrum_range: float,\n",
    "#     energy_spectrum_m: int,\n",
    "#     energy_spectrum_range: tuple[float,float],\n",
    "\n",
    "#     # cross_section(energy_spectrum,angle_spectrum) * number_density [n,m]\n",
    "#     cross_section_density: npt.ArrayLike,\n",
    "\n",
    "#     phot_number_in: npt.ArrayLike, # [n,m]\n",
    "\n",
    "# ) -> tuple[\n",
    "#     npt.ArrayLike, # phot_number_out [n,m]\n",
    "#     npt.ArrayLike, # elec_number_out [n,m]\n",
    "# ]:\n",
    "\n",
    "    \n",
    "#     a = cross_section_density\n",
    "\n",
    "#     pass\n",
    "\n",
    "# def trace_single(\n",
    "#     phot_angle_in: float,\n",
    "#     phot_energy_in: float,\n",
    "\n",
    "#     interaction_density: InteractionDensity,\n",
    "\n",
    "# ) -> list[(\n",
    "#     float, # elec_angle_out\n",
    "#     float, # elec_energy_out\n",
    "# )]:\n",
    "#     # P(depth>=x) = exp(-x interaction_density)\n",
    "#     depth = interaction_density"
   ]
  }
 ],
 "metadata": {
  "kernelspec": {
   "display_name": "Python 3",
   "language": "python",
   "name": "python3"
  },
  "language_info": {
   "codemirror_mode": {
    "name": "ipython",
    "version": 3
   },
   "file_extension": ".py",
   "mimetype": "text/x-python",
   "name": "python",
   "nbconvert_exporter": "python",
   "pygments_lexer": "ipython3",
   "version": "3.10.12"
  }
 },
 "nbformat": 4,
 "nbformat_minor": 5
}
